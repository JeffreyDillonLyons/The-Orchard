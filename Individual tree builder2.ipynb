{
 "cells": [
  {
   "cell_type": "code",
   "execution_count": 3,
   "metadata": {},
   "outputs": [],
   "source": [
    "from turtle import * \n",
    "from random import *\n",
    "\n",
    "t1 = Turtle()\n",
    "\n",
    "\n",
    "#Turtle settings:\n",
    "x = -200\n",
    "turtles = [t1]\n",
    "for t in turtles:\n",
    "  t.speed(0)                     # How fast turtle will draw the animation. 1 to 10, with th expectation of 0. 0 = always the fastest.\n",
    "  t.left(90)\n",
    "  t.color('peru')                # for brownish colours, 'peru' is a bit lighter, 'sienna' medium, 'saddle brown' a bit darker\n",
    "  t.pu()\n",
    "  x += randint(150,160)          # Te x coordinations where the tree will be placed, currently random interval. we need the orcharde base for this later on.\n",
    "  t.goto(x, randint(-100,100))\n",
    "  t.pd()\n",
    "\n",
    "\n",
    "#Setting of the branches\n",
    "\n",
    "def branch(turt, branch_len):\n",
    "  angle = randint(22,30)        # This is where we could change how \"fat\" the tree will be. However, a fatter tree will also require more branches to be made.\n",
    "  sf = uniform(0.5,0.8)         # Indication of how \"cluttered\" the branches will be. Higher numbers interval: more complicated tree branch structure, lots of small branches. \n",
    "  size = int(branch_len /7)     # How thick the branches are\n",
    "  turt.pensize(size)\n",
    "  if branch_len < 20:           # If branches are shorter than 20\n",
    "    turt.color('green')\n",
    "    turt.stamp()\n",
    "    turt.color('peru')\n",
    "\n",
    "  if branch_len > 10:\n",
    "    turt.forward(branch_len)\n",
    "    turt.left(angle)\n",
    "    branch(turt, branch_len*sf)\n",
    "\n",
    "    turt.right(angle*2)\n",
    "    branch(turt, branch_len*sf)\n",
    "    turt.left(angle)\n",
    "    turt.backward(branch_len)\n",
    "\n",
    "for t in turtles:\n",
    "  branch(t,50)                     # The value here defines the size of the tree. \n",
    "                                   # Pro tip from Ron: press 0, 0 to restart your kernel, and thus the drawing. "
   ]
  },
  {
   "cell_type": "code",
   "execution_count": null,
   "metadata": {},
   "outputs": [],
   "source": []
  },
  {
   "cell_type": "code",
   "execution_count": null,
   "metadata": {},
   "outputs": [],
   "source": []
  }
 ],
 "metadata": {
  "kernelspec": {
   "display_name": "Python 3",
   "language": "python",
   "name": "python3"
  },
  "language_info": {
   "codemirror_mode": {
    "name": "ipython",
    "version": 3
   },
   "file_extension": ".py",
   "mimetype": "text/x-python",
   "name": "python",
   "nbconvert_exporter": "python",
   "pygments_lexer": "ipython3",
   "version": "3.8.3"
  }
 },
 "nbformat": 4,
 "nbformat_minor": 4
}
