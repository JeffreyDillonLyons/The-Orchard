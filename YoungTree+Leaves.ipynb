{
 "cells": [
  {
   "cell_type": "markdown",
   "metadata": {},
   "source": [
    "### Run the leavedrawer first, then the little plant is below"
   ]
  },
  {
   "cell_type": "code",
   "execution_count": 6,
   "metadata": {},
   "outputs": [],
   "source": [
    "import turtle as t\n",
    "def leavedrawer():\n",
    "    t.right(45)\n",
    "    t.color('black')\n",
    "    t.pensize(1)\n",
    "    t.down()\n",
    "    t.fillcolor('yellow green')\n",
    "    t.begin_fill()\n",
    "    t.circle(40,80)\n",
    "    t.left(100)\n",
    "    t.circle(40,80)\n",
    "    t.end_fill()\n",
    "    t.right(220)\n",
    "#draw lines within leave:\n",
    "#first\n",
    "    t.forward(15)  \n",
    "    t.left(45)\n",
    "    t.forward(7)\n",
    "    t.backward(7)\n",
    "    t.right(90)\n",
    "    t.forward(7)\n",
    "    t.backward(7)\n",
    "    t.left(45)\n",
    "#second    \n",
    "    t.forward(10)\n",
    "    t.left(45)\n",
    "    t.forward(6)\n",
    "    t.backward(6)\n",
    "    t.right(90)\n",
    "    t.forward(5)\n",
    "    t.backward(5)\n",
    "    t.left(45)\n",
    "#third   \n",
    "    t.forward(7)\n",
    "    t.left(45)\n",
    "    t.forward(5)\n",
    "    t.backward(5)\n",
    "    t.right(90)\n",
    "    t.forward(5)\n",
    "    t.backward(5)\n",
    "    t.left(45)\n",
    "    t.forward(10)\n",
    "    t.penup()\n",
    "    t.backward(32)"
   ]
  },
  {
   "cell_type": "code",
   "execution_count": 4,
   "metadata": {},
   "outputs": [],
   "source": [
    "import turtle as t\n",
    "def littleplantdrawer ():\n",
    "    t.penup()\n",
    "    t.goto(0, 0)            #x, y , later on\n",
    "    t.pensize(2)\n",
    "    t.color(\"yellow green\")\n",
    "    t.seth(90)                  #Turtle facing north\n",
    "    t.pendown()\n",
    "    t.forward(80)\n",
    "\n",
    "#draw frist bending bracnh\n",
    "    t.backward(30)\n",
    "    t.pensize(2)\n",
    "    t.color(\"green\")\n",
    "    t.circle(20, 125)\n",
    "    leavedrawer()\n",
    "    t.penup()\n",
    "    t.right(180)\n",
    "    t.circle(-20, 125)\n",
    "    t.seth(90)\n",
    "#draw second bending bracnh\n",
    "    t.penup()\n",
    "    t.goto(0,0)                #x, y , later on\n",
    "    t.forward(70)\n",
    "    t.pensize(2)\n",
    "    t.color(\"green\")\n",
    "    t.pendown()\n",
    "    t.circle(-20, 125)\n",
    "    leavedrawer()\n",
    "    t.penup()\n",
    "    t.right(180)\n",
    "    t.circle(20, 125)\n",
    "    \n",
    "    \n",
    "\n",
    "littleplantdrawer()"
   ]
  }
 ],
 "metadata": {
  "kernelspec": {
   "display_name": "Python 3",
   "language": "python",
   "name": "python3"
  },
  "language_info": {
   "codemirror_mode": {
    "name": "ipython",
    "version": 3
   },
   "file_extension": ".py",
   "mimetype": "text/x-python",
   "name": "python",
   "nbconvert_exporter": "python",
   "pygments_lexer": "ipython3",
   "version": "3.8.3"
  }
 },
 "nbformat": 4,
 "nbformat_minor": 4
}
