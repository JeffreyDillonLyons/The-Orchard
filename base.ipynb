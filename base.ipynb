{
 "cells": [
  {
   "cell_type": "markdown",
   "metadata": {},
   "source": [
    "## The Orchard\n"
   ]
  },
  {
   "cell_type": "markdown",
   "metadata": {},
   "source": [
    "Tasks <br>\n",
    "1. Start with classes of trees and their attributes ie brush up on ooo.\n",
    "2. Pseudo code framework as it occurrs for the boys. \n",
    "3. Practice drawing trees with L-system."
   ]
  },
  {
   "cell_type": "markdown",
   "metadata": {},
   "source": [
    "__Preamble__"
   ]
  },
  {
   "cell_type": "code",
   "execution_count": 3,
   "metadata": {},
   "outputs": [],
   "source": [
    "import numpy as np\n",
    "import turtle as t\n"
   ]
  },
  {
   "cell_type": "markdown",
   "metadata": {},
   "source": [
    "Here we create the class of tree. Fruite trees can have many attributes such as their colour, growth rate, growth characteristics etc etc. Using OOP is a handy way to manage these characteristics as we can easily store and call these attributes as we run our simulation. eg Grow > grow_by(apple.growth()). We can also define species specific methods which can be called."
   ]
  },
  {
   "cell_type": "markdown",
   "metadata": {},
   "source": [
    "__Classes and Objects__"
   ]
  },
  {
   "cell_type": "code",
   "execution_count": null,
   "metadata": {},
   "outputs": [],
   "source": [
    "class tree():\n",
    "    def __init__(self, age, branch_length, number, book):\n",
    "        'New instance of class Tree'\n",
    "        self.age = age\n",
    "        self.branch_length = branch_length\n",
    "        self.number = number\n",
    "        self.book = book\n",
    "        \n",
    "    def ageing(self):\n",
    "        self.age += 1\n",
    "    \n",
    "    def grow(self):\n",
    "        if self.age == 0:\n",
    "            t.penup()\n",
    "            t.setpos(tree_book[self.number])\n",
    "            t.seth(90)\n",
    "            t.pendown()\n",
    "            t.forward(25)\n",
    "            t.penup()\n",
    "            self.book.append(t.position())\n",
    "            \n",
    "            \n",
    "        elif (0 < self.age < 10):\n",
    "            branch_list = []\n",
    "            for branch in self.book:\n",
    "                t.penup()\n",
    "                t.setpos(branch)\n",
    "                t.seth(90)\n",
    "                t.pendown()\n",
    "                t.right(25)\n",
    "                t.forward(self.branch_length/tick)\n",
    "                t.penup()\n",
    "                branch_list.append(t.position())\n",
    "                t.setpos(branch)\n",
    "                t.seth(90)\n",
    "                t.pendown()\n",
    "                t.left(25)\n",
    "                t.forward(self.branch_length/tick)\n",
    "                t.penup()\n",
    "                branch_list.append(t.position())\n",
    "            \n",
    "            self.book = []\n",
    "            self.book = branch_list\n",
    "      \n",
    "    def test(self):\n",
    "        print('test')\n",
    "    \n",
    "    def __str__(self):\n",
    "        return 'I am an '+ self.age + ' tree.'"
   ]
  },
  {
   "cell_type": "code",
   "execution_count": null,
   "metadata": {},
   "outputs": [],
   "source": [
    "\n",
    "## Create planting grid, assign locations.\n",
    "def saplings(number_points):\n",
    "    p = []\n",
    "    for i in range(1,10):\n",
    "        for j in range(1,10):\n",
    "            p.append((100*i,100*j))\n",
    "    global tree_book\n",
    "    tree_book = {}\n",
    "    for i in range(number_points):\n",
    "        tree_book[i] = p[i]\n",
    "\n",
    "\n",
    "\n",
    "def generator(number_trees):\n",
    "    saplings(number_trees)\n",
    "    global trees\n",
    "    trees = []\n",
    "    for i in range(number_trees):\n",
    "        trees.append(tree(0,25,i,[]))\n",
    "\n",
    "generator(30)\n"
   ]
  },
  {
   "cell_type": "code",
   "execution_count": null,
   "metadata": {},
   "outputs": [],
   "source": [
    "trees"
   ]
  },
  {
   "cell_type": "code",
   "execution_count": null,
   "metadata": {},
   "outputs": [],
   "source": [
    "\n",
    "\n",
    "def go(horizon):\n",
    "    global tick\n",
    "    tick = 1\n",
    "    setup()\n",
    "    while tick < horizon:\n",
    "        for tree in trees:\n",
    "            tree.grow()\n",
    "            tree.ageing()\n",
    "    tick += 1\n",
    "        \n",
    "    \n",
    "go(10)  "
   ]
  },
  {
   "cell_type": "markdown",
   "metadata": {},
   "source": [
    "__Choosing the spots and planting a number of tree__"
   ]
  },
  {
   "cell_type": "markdown",
   "metadata": {},
   "source": [
    "Hey boys, in the following code I set up the turtle screen with setup(), form a list of position vectors of where we're going to plant the trees, and then I get the turtle to go to each point, draw a trunk of a fixed length and then update the position list for the next round of growth. This is a good place to start to implement the L-system"
   ]
  },
  {
   "cell_type": "code",
   "execution_count": null,
   "metadata": {},
   "outputs": [],
   "source": [
    "def setup():\n",
    "    t.setup(width=1.0,height=1.0)\n",
    "    t.setworldcoordinates(0,0,1000,1000)"
   ]
  },
  {
   "cell_type": "markdown",
   "metadata": {},
   "source": [
    "Notes\n",
    "- Add linspace to make grid, then zip to tuples for coordinates. \n",
    "- Using a turtle for each growth would look nicer but is more complicated to code. \n",
    "- Combine point and tree_info functions. Make them work from same parameter. User input for number of trees. \n"
   ]
  },
  {
   "cell_type": "code",
   "execution_count": 46,
   "metadata": {},
   "outputs": [],
   "source": [
    "class tree():\n",
    "    def __init__(self, age, branch_length, number, book):\n",
    "        'New instance of class Tree'\n",
    "        self.age = age\n",
    "        self.branch_length = branch_length\n",
    "        self.number = number\n",
    "        self.book = book\n",
    "        \n",
    "    def ageing(self):\n",
    "        self.age += 1\n",
    "    \n",
    "    def grow(self):\n",
    "        if self.age == 0:\n",
    "            t.penup()\n",
    "            t.setpos(tree_book[self.number])\n",
    "            t.color(\"yellow green\")\n",
    "            t.seth(90)\n",
    "            t.pendown()\n",
    "            t.forward(25)\n",
    "            t.penup()\n",
    "            self.book.append(t.position())\n",
    "            \n",
    "            \n",
    "        elif (0 < self.age < 10):\n",
    "            branch_list = []\n",
    "            for branch in self.book:\n",
    "                t.penup()\n",
    "                t.setpos(branch)\n",
    "                #draw frist bending bracnh\n",
    "                t.pendown()\n",
    "                #t.backward(30)\n",
    "                t.pensize(2)\n",
    "                t.color(\"green\")\n",
    "                t.circle(20, 25)\n",
    "                branch_list.append(t.position())\n",
    "                leavedrawer()\n",
    "                \n",
    "                t.seth(90)\n",
    "            #draw second bending bracnh\n",
    "                t.penup()\n",
    "                t.setpos(branch) \n",
    "                t.seth(90)\n",
    "                #x, y , later on\n",
    "                #t.forward(70)\n",
    "                t.pensize(2)\n",
    "                t.color(\"green\")\n",
    "                t.pendown()\n",
    "                t.circle(-20, 25)\n",
    "                branch_list.append(t.position())\n",
    "                leavedrawer()\n",
    "                t.penup()\n",
    "                \n",
    "\n",
    "                \n",
    "\n",
    "            \n",
    "            self.book = []\n",
    "            self.book = branch_list\n",
    "      \n",
    "    def test(self):\n",
    "        print('test')\n",
    "    \n",
    "    def __str__(self):\n",
    "        return 'I am an '+ self.age + ' tree.'"
   ]
  },
  {
   "cell_type": "code",
   "execution_count": 45,
   "metadata": {},
   "outputs": [],
   "source": [
    "import turtle as t\n",
    "def leavedrawer():\n",
    "    t.right(45)\n",
    "    t.color('black')\n",
    "    t.pensize(1)\n",
    "    t.down()\n",
    "    t.fillcolor('yellow green')\n",
    "    t.begin_fill()\n",
    "    t.circle(5,10)\n",
    "    t.left(100)\n",
    "    t.circle(5,10)\n",
    "    t.end_fill()\n",
    "    t.right(220)\n",
    "\n",
    "  "
   ]
  },
  {
   "cell_type": "markdown",
   "metadata": {},
   "source": [
    "## Master\n"
   ]
  },
  {
   "cell_type": "code",
   "execution_count": null,
   "metadata": {},
   "outputs": [],
   "source": [
    "import numpy as np\n",
    "import turtle as t"
   ]
  },
  {
   "cell_type": "markdown",
   "metadata": {},
   "source": [
    "__Setting up screen__\n"
   ]
  },
  {
   "cell_type": "code",
   "execution_count": 17,
   "metadata": {},
   "outputs": [],
   "source": [
    "def setup():\n",
    "    t.setup(width=1.0,height=1.0)\n",
    "    t.setworldcoordinates(0,0,1000,1000)"
   ]
  },
  {
   "cell_type": "markdown",
   "metadata": {},
   "source": [
    "__Defining number of trees to grow and where to plant them__\n"
   ]
  },
  {
   "cell_type": "code",
   "execution_count": 48,
   "metadata": {},
   "outputs": [],
   "source": [
    "def saplings(number_points):\n",
    "    p = []\n",
    "    for i in range(1,10):\n",
    "        for j in range(1,10):\n",
    "            p.append((100*i,100*j))\n",
    "    global tree_book\n",
    "    tree_book = {}\n",
    "    for i in range(number_points):\n",
    "        tree_book[i] = p[i]\n",
    "\n",
    "def generator(number_trees):\n",
    "    saplings(number_trees)\n",
    "    global trees\n",
    "    trees = []\n",
    "    for i in range(number_trees):\n",
    "        trees.append(tree(0,25,i,[]))\n",
    "generator(3)"
   ]
  },
  {
   "cell_type": "markdown",
   "metadata": {},
   "source": [
    "__Tree class & objects__"
   ]
  },
  {
   "cell_type": "code",
   "execution_count": 37,
   "metadata": {},
   "outputs": [],
   "source": [
    "class tree():\n",
    "    def __init__(self, age, branch_length, number, book):\n",
    "        'New instance of class Tree'\n",
    "        self.age = age\n",
    "        self.branch_length = branch_length\n",
    "        self.number = number\n",
    "        self.book = book\n",
    "        \n",
    "    def ageing(self):\n",
    "        self.age += 1\n",
    "    \n",
    "    def grow(self):\n",
    "        if self.age == 0:\n",
    "            t.penup()\n",
    "            t.setpos(tree_book[self.number])\n",
    "            t.seth(90)\n",
    "            t.pendown()\n",
    "            t.forward(25)\n",
    "            t.penup()\n",
    "            self.book.append(t.position())\n",
    "            \n",
    "            \n",
    "        elif (0 < self.age < 10):\n",
    "            branch_list = []\n",
    "            for branch in self.book:\n",
    "                t.penup()\n",
    "                t.setpos(branch)\n",
    "                t.seth(90)\n",
    "                t.pendown()\n",
    "                t.right(25)\n",
    "                t.forward(self.branch_length/tick)\n",
    "                t.penup()\n",
    "                branch_list.append(t.position())\n",
    "                t.setpos(branch)\n",
    "                t.seth(90)\n",
    "                t.pendown()\n",
    "                t.left(25)\n",
    "                t.forward(self.branch_length/tick)\n",
    "                t.penup()\n",
    "                branch_list.append(t.position())\n",
    "            \n",
    "            self.book = []\n",
    "            self.book = branch_list\n",
    "      \n",
    "    def test(self):\n",
    "        print('test')\n",
    "    \n",
    "    def __str__(self):\n",
    "        return 'I am an '+ self.age + ' tree.'"
   ]
  },
  {
   "cell_type": "markdown",
   "metadata": {},
   "source": [
    "__Go function__"
   ]
  },
  {
   "cell_type": "code",
   "execution_count": 49,
   "metadata": {},
   "outputs": [
    {
     "ename": "Terminator",
     "evalue": "",
     "output_type": "error",
     "traceback": [
      "\u001b[1;31m---------------------------------------------------------------------------\u001b[0m",
      "\u001b[1;31mTerminator\u001b[0m                                Traceback (most recent call last)",
      "\u001b[1;32m<ipython-input-49-9eb7a33e5a5c>\u001b[0m in \u001b[0;36m<module>\u001b[1;34m\u001b[0m\n\u001b[0;32m     10\u001b[0m \u001b[1;33m\u001b[0m\u001b[0m\n\u001b[0;32m     11\u001b[0m \u001b[1;33m\u001b[0m\u001b[0m\n\u001b[1;32m---> 12\u001b[1;33m \u001b[0mgo\u001b[0m\u001b[1;33m(\u001b[0m\u001b[1;36m10\u001b[0m\u001b[1;33m)\u001b[0m\u001b[1;33m\u001b[0m\u001b[1;33m\u001b[0m\u001b[0m\n\u001b[0m",
      "\u001b[1;32m<ipython-input-49-9eb7a33e5a5c>\u001b[0m in \u001b[0;36mgo\u001b[1;34m(horizon)\u001b[0m\n\u001b[0;32m      5\u001b[0m     \u001b[1;32mwhile\u001b[0m \u001b[0mtick\u001b[0m \u001b[1;33m<\u001b[0m \u001b[0mhorizon\u001b[0m\u001b[1;33m:\u001b[0m\u001b[1;33m\u001b[0m\u001b[1;33m\u001b[0m\u001b[0m\n\u001b[0;32m      6\u001b[0m         \u001b[1;32mfor\u001b[0m \u001b[0mtree\u001b[0m \u001b[1;32min\u001b[0m \u001b[0mtrees\u001b[0m\u001b[1;33m:\u001b[0m\u001b[1;33m\u001b[0m\u001b[1;33m\u001b[0m\u001b[0m\n\u001b[1;32m----> 7\u001b[1;33m             \u001b[0mtree\u001b[0m\u001b[1;33m.\u001b[0m\u001b[0mgrow\u001b[0m\u001b[1;33m(\u001b[0m\u001b[1;33m)\u001b[0m\u001b[1;33m\u001b[0m\u001b[1;33m\u001b[0m\u001b[0m\n\u001b[0m\u001b[0;32m      8\u001b[0m             \u001b[0mtree\u001b[0m\u001b[1;33m.\u001b[0m\u001b[0mageing\u001b[0m\u001b[1;33m(\u001b[0m\u001b[1;33m)\u001b[0m\u001b[1;33m\u001b[0m\u001b[1;33m\u001b[0m\u001b[0m\n\u001b[0;32m      9\u001b[0m     \u001b[0mtick\u001b[0m \u001b[1;33m+=\u001b[0m \u001b[1;36m1\u001b[0m\u001b[1;33m\u001b[0m\u001b[1;33m\u001b[0m\u001b[0m\n",
      "\u001b[1;32m<ipython-input-46-67cd89ce517a>\u001b[0m in \u001b[0;36mgrow\u001b[1;34m(self)\u001b[0m\n\u001b[0;32m     34\u001b[0m                 \u001b[0mt\u001b[0m\u001b[1;33m.\u001b[0m\u001b[0mcircle\u001b[0m\u001b[1;33m(\u001b[0m\u001b[1;36m20\u001b[0m\u001b[1;33m,\u001b[0m \u001b[1;36m25\u001b[0m\u001b[1;33m)\u001b[0m\u001b[1;33m\u001b[0m\u001b[1;33m\u001b[0m\u001b[0m\n\u001b[0;32m     35\u001b[0m                 \u001b[0mbranch_list\u001b[0m\u001b[1;33m.\u001b[0m\u001b[0mappend\u001b[0m\u001b[1;33m(\u001b[0m\u001b[0mt\u001b[0m\u001b[1;33m.\u001b[0m\u001b[0mposition\u001b[0m\u001b[1;33m(\u001b[0m\u001b[1;33m)\u001b[0m\u001b[1;33m)\u001b[0m\u001b[1;33m\u001b[0m\u001b[1;33m\u001b[0m\u001b[0m\n\u001b[1;32m---> 36\u001b[1;33m                 \u001b[0mleavedrawer\u001b[0m\u001b[1;33m(\u001b[0m\u001b[1;33m)\u001b[0m\u001b[1;33m\u001b[0m\u001b[1;33m\u001b[0m\u001b[0m\n\u001b[0m\u001b[0;32m     37\u001b[0m \u001b[1;33m\u001b[0m\u001b[0m\n\u001b[0;32m     38\u001b[0m                 \u001b[0mt\u001b[0m\u001b[1;33m.\u001b[0m\u001b[0mseth\u001b[0m\u001b[1;33m(\u001b[0m\u001b[1;36m90\u001b[0m\u001b[1;33m)\u001b[0m\u001b[1;33m\u001b[0m\u001b[1;33m\u001b[0m\u001b[0m\n",
      "\u001b[1;32m<ipython-input-45-c15a8e716ec9>\u001b[0m in \u001b[0;36mleavedrawer\u001b[1;34m()\u001b[0m\n\u001b[0;32m      8\u001b[0m     \u001b[0mt\u001b[0m\u001b[1;33m.\u001b[0m\u001b[0mbegin_fill\u001b[0m\u001b[1;33m(\u001b[0m\u001b[1;33m)\u001b[0m\u001b[1;33m\u001b[0m\u001b[1;33m\u001b[0m\u001b[0m\n\u001b[0;32m      9\u001b[0m     \u001b[0mt\u001b[0m\u001b[1;33m.\u001b[0m\u001b[0mcircle\u001b[0m\u001b[1;33m(\u001b[0m\u001b[1;36m5\u001b[0m\u001b[1;33m,\u001b[0m\u001b[1;36m10\u001b[0m\u001b[1;33m)\u001b[0m\u001b[1;33m\u001b[0m\u001b[1;33m\u001b[0m\u001b[0m\n\u001b[1;32m---> 10\u001b[1;33m     \u001b[0mt\u001b[0m\u001b[1;33m.\u001b[0m\u001b[0mleft\u001b[0m\u001b[1;33m(\u001b[0m\u001b[1;36m100\u001b[0m\u001b[1;33m)\u001b[0m\u001b[1;33m\u001b[0m\u001b[1;33m\u001b[0m\u001b[0m\n\u001b[0m\u001b[0;32m     11\u001b[0m     \u001b[0mt\u001b[0m\u001b[1;33m.\u001b[0m\u001b[0mcircle\u001b[0m\u001b[1;33m(\u001b[0m\u001b[1;36m5\u001b[0m\u001b[1;33m,\u001b[0m\u001b[1;36m10\u001b[0m\u001b[1;33m)\u001b[0m\u001b[1;33m\u001b[0m\u001b[1;33m\u001b[0m\u001b[0m\n\u001b[0;32m     12\u001b[0m     \u001b[0mt\u001b[0m\u001b[1;33m.\u001b[0m\u001b[0mend_fill\u001b[0m\u001b[1;33m(\u001b[0m\u001b[1;33m)\u001b[0m\u001b[1;33m\u001b[0m\u001b[1;33m\u001b[0m\u001b[0m\n",
      "\u001b[1;32m~\\Anaconda3\\lib\\turtle.py\u001b[0m in \u001b[0;36mleft\u001b[1;34m(angle)\u001b[0m\n",
      "\u001b[1;32m~\\Anaconda3\\lib\\turtle.py\u001b[0m in \u001b[0;36mleft\u001b[1;34m(self, angle)\u001b[0m\n\u001b[0;32m   1697\u001b[0m         \u001b[1;36m67.0\u001b[0m\u001b[1;33m\u001b[0m\u001b[1;33m\u001b[0m\u001b[0m\n\u001b[0;32m   1698\u001b[0m         \"\"\"\n\u001b[1;32m-> 1699\u001b[1;33m         \u001b[0mself\u001b[0m\u001b[1;33m.\u001b[0m\u001b[0m_rotate\u001b[0m\u001b[1;33m(\u001b[0m\u001b[0mangle\u001b[0m\u001b[1;33m)\u001b[0m\u001b[1;33m\u001b[0m\u001b[1;33m\u001b[0m\u001b[0m\n\u001b[0m\u001b[0;32m   1700\u001b[0m \u001b[1;33m\u001b[0m\u001b[0m\n\u001b[0;32m   1701\u001b[0m     \u001b[1;32mdef\u001b[0m \u001b[0mpos\u001b[0m\u001b[1;33m(\u001b[0m\u001b[0mself\u001b[0m\u001b[1;33m)\u001b[0m\u001b[1;33m:\u001b[0m\u001b[1;33m\u001b[0m\u001b[1;33m\u001b[0m\u001b[0m\n",
      "\u001b[1;32m~\\Anaconda3\\lib\\turtle.py\u001b[0m in \u001b[0;36m_rotate\u001b[1;34m(self, angle)\u001b[0m\n\u001b[0;32m   3274\u001b[0m             \u001b[1;32mfor\u001b[0m \u001b[0m_\u001b[0m \u001b[1;32min\u001b[0m \u001b[0mrange\u001b[0m\u001b[1;33m(\u001b[0m\u001b[0msteps\u001b[0m\u001b[1;33m)\u001b[0m\u001b[1;33m:\u001b[0m\u001b[1;33m\u001b[0m\u001b[1;33m\u001b[0m\u001b[0m\n\u001b[0;32m   3275\u001b[0m                 \u001b[0mself\u001b[0m\u001b[1;33m.\u001b[0m\u001b[0m_orient\u001b[0m \u001b[1;33m=\u001b[0m \u001b[0mself\u001b[0m\u001b[1;33m.\u001b[0m\u001b[0m_orient\u001b[0m\u001b[1;33m.\u001b[0m\u001b[0mrotate\u001b[0m\u001b[1;33m(\u001b[0m\u001b[0mdelta\u001b[0m\u001b[1;33m)\u001b[0m\u001b[1;33m\u001b[0m\u001b[1;33m\u001b[0m\u001b[0m\n\u001b[1;32m-> 3276\u001b[1;33m                 \u001b[0mself\u001b[0m\u001b[1;33m.\u001b[0m\u001b[0m_update\u001b[0m\u001b[1;33m(\u001b[0m\u001b[1;33m)\u001b[0m\u001b[1;33m\u001b[0m\u001b[1;33m\u001b[0m\u001b[0m\n\u001b[0m\u001b[0;32m   3277\u001b[0m         \u001b[0mself\u001b[0m\u001b[1;33m.\u001b[0m\u001b[0m_orient\u001b[0m \u001b[1;33m=\u001b[0m \u001b[0mneworient\u001b[0m\u001b[1;33m\u001b[0m\u001b[1;33m\u001b[0m\u001b[0m\n\u001b[0;32m   3278\u001b[0m         \u001b[0mself\u001b[0m\u001b[1;33m.\u001b[0m\u001b[0m_update\u001b[0m\u001b[1;33m(\u001b[0m\u001b[1;33m)\u001b[0m\u001b[1;33m\u001b[0m\u001b[1;33m\u001b[0m\u001b[0m\n",
      "\u001b[1;32m~\\Anaconda3\\lib\\turtle.py\u001b[0m in \u001b[0;36m_update\u001b[1;34m(self)\u001b[0m\n\u001b[0;32m   2658\u001b[0m             \u001b[1;32mreturn\u001b[0m\u001b[1;33m\u001b[0m\u001b[1;33m\u001b[0m\u001b[0m\n\u001b[0;32m   2659\u001b[0m         \u001b[1;32melif\u001b[0m \u001b[0mscreen\u001b[0m\u001b[1;33m.\u001b[0m\u001b[0m_tracing\u001b[0m \u001b[1;33m==\u001b[0m \u001b[1;36m1\u001b[0m\u001b[1;33m:\u001b[0m\u001b[1;33m\u001b[0m\u001b[1;33m\u001b[0m\u001b[0m\n\u001b[1;32m-> 2660\u001b[1;33m             \u001b[0mself\u001b[0m\u001b[1;33m.\u001b[0m\u001b[0m_update_data\u001b[0m\u001b[1;33m(\u001b[0m\u001b[1;33m)\u001b[0m\u001b[1;33m\u001b[0m\u001b[1;33m\u001b[0m\u001b[0m\n\u001b[0m\u001b[0;32m   2661\u001b[0m             \u001b[0mself\u001b[0m\u001b[1;33m.\u001b[0m\u001b[0m_drawturtle\u001b[0m\u001b[1;33m(\u001b[0m\u001b[1;33m)\u001b[0m\u001b[1;33m\u001b[0m\u001b[1;33m\u001b[0m\u001b[0m\n\u001b[0;32m   2662\u001b[0m             \u001b[0mscreen\u001b[0m\u001b[1;33m.\u001b[0m\u001b[0m_update\u001b[0m\u001b[1;33m(\u001b[0m\u001b[1;33m)\u001b[0m                  \u001b[1;31m# TurtleScreenBase\u001b[0m\u001b[1;33m\u001b[0m\u001b[1;33m\u001b[0m\u001b[0m\n",
      "\u001b[1;32m~\\Anaconda3\\lib\\turtle.py\u001b[0m in \u001b[0;36m_update_data\u001b[1;34m(self)\u001b[0m\n\u001b[0;32m   2644\u001b[0m \u001b[1;33m\u001b[0m\u001b[0m\n\u001b[0;32m   2645\u001b[0m     \u001b[1;32mdef\u001b[0m \u001b[0m_update_data\u001b[0m\u001b[1;33m(\u001b[0m\u001b[0mself\u001b[0m\u001b[1;33m)\u001b[0m\u001b[1;33m:\u001b[0m\u001b[1;33m\u001b[0m\u001b[1;33m\u001b[0m\u001b[0m\n\u001b[1;32m-> 2646\u001b[1;33m         \u001b[0mself\u001b[0m\u001b[1;33m.\u001b[0m\u001b[0mscreen\u001b[0m\u001b[1;33m.\u001b[0m\u001b[0m_incrementudc\u001b[0m\u001b[1;33m(\u001b[0m\u001b[1;33m)\u001b[0m\u001b[1;33m\u001b[0m\u001b[1;33m\u001b[0m\u001b[0m\n\u001b[0m\u001b[0;32m   2647\u001b[0m         \u001b[1;32mif\u001b[0m \u001b[0mself\u001b[0m\u001b[1;33m.\u001b[0m\u001b[0mscreen\u001b[0m\u001b[1;33m.\u001b[0m\u001b[0m_updatecounter\u001b[0m \u001b[1;33m!=\u001b[0m \u001b[1;36m0\u001b[0m\u001b[1;33m:\u001b[0m\u001b[1;33m\u001b[0m\u001b[1;33m\u001b[0m\u001b[0m\n\u001b[0;32m   2648\u001b[0m             \u001b[1;32mreturn\u001b[0m\u001b[1;33m\u001b[0m\u001b[1;33m\u001b[0m\u001b[0m\n",
      "\u001b[1;32m~\\Anaconda3\\lib\\turtle.py\u001b[0m in \u001b[0;36m_incrementudc\u001b[1;34m(self)\u001b[0m\n\u001b[0;32m   1290\u001b[0m         \u001b[1;32mif\u001b[0m \u001b[1;32mnot\u001b[0m \u001b[0mTurtleScreen\u001b[0m\u001b[1;33m.\u001b[0m\u001b[0m_RUNNING\u001b[0m\u001b[1;33m:\u001b[0m\u001b[1;33m\u001b[0m\u001b[1;33m\u001b[0m\u001b[0m\n\u001b[0;32m   1291\u001b[0m             \u001b[0mTurtleScreen\u001b[0m\u001b[1;33m.\u001b[0m\u001b[0m_RUNNING\u001b[0m \u001b[1;33m=\u001b[0m \u001b[1;32mTrue\u001b[0m\u001b[1;33m\u001b[0m\u001b[1;33m\u001b[0m\u001b[0m\n\u001b[1;32m-> 1292\u001b[1;33m             \u001b[1;32mraise\u001b[0m \u001b[0mTerminator\u001b[0m\u001b[1;33m\u001b[0m\u001b[1;33m\u001b[0m\u001b[0m\n\u001b[0m\u001b[0;32m   1293\u001b[0m         \u001b[1;32mif\u001b[0m \u001b[0mself\u001b[0m\u001b[1;33m.\u001b[0m\u001b[0m_tracing\u001b[0m \u001b[1;33m>\u001b[0m \u001b[1;36m0\u001b[0m\u001b[1;33m:\u001b[0m\u001b[1;33m\u001b[0m\u001b[1;33m\u001b[0m\u001b[0m\n\u001b[0;32m   1294\u001b[0m             \u001b[0mself\u001b[0m\u001b[1;33m.\u001b[0m\u001b[0m_updatecounter\u001b[0m \u001b[1;33m+=\u001b[0m \u001b[1;36m1\u001b[0m\u001b[1;33m\u001b[0m\u001b[1;33m\u001b[0m\u001b[0m\n",
      "\u001b[1;31mTerminator\u001b[0m: "
     ]
    }
   ],
   "source": [
    "\n",
    "def go(horizon):\n",
    "    global tick\n",
    "    tick = 1\n",
    "    setup()\n",
    "    while tick < horizon:\n",
    "        for tree in trees:\n",
    "            tree.grow()\n",
    "            tree.ageing()\n",
    "    tick += 1\n",
    "        \n",
    "    \n",
    "go(10)  "
   ]
  },
  {
   "cell_type": "code",
   "execution_count": 34,
   "metadata": {},
   "outputs": [],
   "source": [
    "t.clearscreen()"
   ]
  }
 ],
 "metadata": {
  "kernelspec": {
   "display_name": "Python 3",
   "language": "python",
   "name": "python3"
  },
  "language_info": {
   "codemirror_mode": {
    "name": "ipython",
    "version": 3
   },
   "file_extension": ".py",
   "mimetype": "text/x-python",
   "name": "python",
   "nbconvert_exporter": "python",
   "pygments_lexer": "ipython3",
   "version": "3.7.4"
  }
 },
 "nbformat": 4,
 "nbformat_minor": 2
}
