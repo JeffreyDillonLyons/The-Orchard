{
 "cells": [
  {
   "cell_type": "markdown",
   "metadata": {},
   "source": [
    "## The Orchard\n"
   ]
  },
  {
   "cell_type": "markdown",
   "metadata": {},
   "source": [
    "__Preamble__"
   ]
  },
  {
   "cell_type": "code",
   "execution_count": null,
   "metadata": {},
   "outputs": [],
   "source": [
    "import numpy as np\n",
    "import turtle as t\n"
   ]
  },
  {
   "cell_type": "markdown",
   "metadata": {},
   "source": [
    "Notes\n",
    "- Add linspace to make grid, then zip to tuples for coordinates. \n",
    "- Using a turtle for each growth would look nicer but is more complicated to code. \n",
    "- Combine point and tree_info functions. Make them work from same parameter. User input for number of trees. \n"
   ]
  },
  {
   "cell_type": "markdown",
   "metadata": {},
   "source": [
    "## Master\n"
   ]
  },
  {
   "cell_type": "code",
   "execution_count": 2,
   "metadata": {},
   "outputs": [],
   "source": [
    "import numpy as np\n",
    "import turtle as t"
   ]
  },
  {
   "cell_type": "markdown",
   "metadata": {},
   "source": [
    "__Setting up screen__\n"
   ]
  },
  {
   "cell_type": "code",
   "execution_count": 16,
   "metadata": {},
   "outputs": [],
   "source": [
    "def setup():\n",
    "    t.setup(width=1.0,height=1.0)\n",
    "    t.setworldcoordinates(0,0,1000,1000)"
   ]
  },
  {
   "cell_type": "markdown",
   "metadata": {},
   "source": [
    "__Defining number of trees to grow and where to plant them__\n"
   ]
  },
  {
   "cell_type": "code",
   "execution_count": 40,
   "metadata": {},
   "outputs": [],
   "source": [
    "def saplings(number_points):\n",
    "    p = []\n",
    "    for i in range(1,10):\n",
    "        for j in range(1,10):\n",
    "            p.append((100*i,100*j))\n",
    "    global tree_book\n",
    "    tree_book = {}\n",
    "    for i in range(number_points):\n",
    "        tree_book[i] = p[i]\n",
    "\n",
    "def generator(number_apple,number_pear,number_plum):\n",
    "    number_trees = number_apple + number_pear + number_plum\n",
    "    saplings(number_trees)\n",
    "    global trees\n",
    "    trees = []\n",
    "    for i in range(0, number_apple):\n",
    "        trees.append(apple(0, 30, 40, i, 25, 'red'))\n",
    "    for j in range(number_apple, number_apple + number_pear):\n",
    "        trees.append(pear(0, 20, 30, j, 40 , 'green'))\n",
    "    for k in range(number_apple + number_pear, number_plum + number_pear + number_apple):\n",
    "        trees.append(plum(0, 10, 20, k, 50, 'purple'))\n",
    "        \n",
    "generator(10,10,10)        "
   ]
  },
  {
   "cell_type": "markdown",
   "metadata": {},
   "source": [
    "__L-system generation rules__"
   ]
  },
  {
   "cell_type": "code",
   "execution_count": 14,
   "metadata": {},
   "outputs": [],
   "source": [
    "def apply_rules(letter):                      \n",
    "    if letter == 'G':                         \n",
    "        new_string = 'F'\n",
    "    elif letter == 'F':\n",
    "        new_string = 'FF'\n",
    "    else:                                     \n",
    "        new_string = letter\n",
    "    return new_string\n",
    "\n",
    "def process_string(original_string): #Apply rules to a string, one letter at a time, and return the result.\"\"\"\n",
    "    tranformed_string = \"\"\n",
    "    for letter in original_string:\n",
    "        tranformed_string = tranformed_string + apply_rules(letter)\n",
    "    return tranformed_string\n",
    "\n"
   ]
  },
  {
   "cell_type": "markdown",
   "metadata": {},
   "source": [
    "__Tree class & objects__"
   ]
  },
  {
   "cell_type": "markdown",
   "metadata": {},
   "source": [
    "__Super class__"
   ]
  },
  {
   "cell_type": "code",
   "execution_count": 38,
   "metadata": {},
   "outputs": [],
   "source": [
    "class tree():\n",
    "    def __init__(self, age, branch_length, trunk_length, number, angle, colour):\n",
    "        'Tree super class'\n",
    "        self.age = age\n",
    "        self.branch_length = branch_length\n",
    "        self.trunk_length = trunk_length\n",
    "        self.number = number\n",
    "        self.book = [tree_book[self.number]]\n",
    "        self.axiom = 'G'\n",
    "        self.angle = angle\n",
    "        self.colour = colour\n",
    "        \n",
    "    def ageing(self):\n",
    "        self.age += 1\n",
    "        \n",
    "    def test(self):\n",
    "        print('test')\n",
    "\n",
    "    def __str__(self):\n",
    "        return 'I am an '+ self.age + ' tree.'\n",
    "    "
   ]
  },
  {
   "cell_type": "markdown",
   "metadata": {},
   "source": [
    "__Daughter classes__"
   ]
  },
  {
   "cell_type": "code",
   "execution_count": 39,
   "metadata": {},
   "outputs": [],
   "source": [
    "class apple(tree):\n",
    "    \n",
    "    \n",
    "    def grow(self):\n",
    "        if self.age < 10:\n",
    "            branch_list = []\n",
    "            stack = []\n",
    "            \n",
    "            for task in self.axiom:\n",
    "                t.penup()\n",
    "                if task == 'G':\n",
    "                    t.setpos(self.book[0])\n",
    "                    t.seth(90)\n",
    "                    t.pendown()\n",
    "                    t.color('peru')\n",
    "                    t.pensize(4)         \n",
    "                    t.forward(self.trunk_length)\n",
    "                    branch_list.append(t.position())\n",
    "                    \n",
    "                if task == 'F':\n",
    "                    t.setpos(self.book[0])\n",
    "                    t.seth(90)\n",
    "                    t.right(self.angle)\n",
    "                    t.color(self.colour)\n",
    "                    t.pensize(1)\n",
    "                    t.pendown()\n",
    "                    t.forward((self.branch_length/self.age))\n",
    "                    t.penup()\n",
    "                    branch_list.append(t.position())\n",
    "                    t.setpos(self.book[0])\n",
    "                    t.seth(90)\n",
    "                    t.left(self.angle)\n",
    "                    t.pendown()\n",
    "                    t.forward((self.branch_length/self.age))\n",
    "                    branch_list.append(t.position())\n",
    "                    t.penup()\n",
    "                    self.book.pop(0)\n",
    "                    \n",
    "                        \n",
    "            \n",
    "            self.book = []\n",
    "            self.book = list(dict.fromkeys(branch_list))\n",
    "            self.axiom = process_string(self.axiom)\n",
    "    \n",
    "class pear(tree):\n",
    "    \n",
    "    \n",
    "    def grow(self):\n",
    "        if self.age < 10:\n",
    "            branch_list = []\n",
    "            stack = []\n",
    "            \n",
    "            for task in self.axiom:\n",
    "                t.penup()\n",
    "                if task == 'G':\n",
    "                    t.setpos(self.book[0])\n",
    "                    t.seth(90)\n",
    "                    t.pendown()\n",
    "                    t.color('peru')\n",
    "                    t.pensize(4)         \n",
    "                    t.forward(self.trunk_length)\n",
    "                    branch_list.append(t.position())\n",
    "                    \n",
    "                if task == 'F':\n",
    "                    t.setpos(self.book[0])\n",
    "                    t.seth(90)\n",
    "                    t.right(self.angle)\n",
    "                    t.color(self.colour)\n",
    "                    t.pensize(1)\n",
    "                    t.pendown()\n",
    "                    t.forward((self.branch_length/self.age))\n",
    "                    t.penup()\n",
    "                    branch_list.append(t.position())\n",
    "                    t.setpos(self.book[0])\n",
    "                    t.seth(90)\n",
    "                    t.left(self.angle)\n",
    "                    t.pendown()\n",
    "                    t.forward((self.branch_length/self.age))\n",
    "                    branch_list.append(t.position())\n",
    "                    t.penup()\n",
    "                    self.book.pop(0)\n",
    "                    \n",
    "                        \n",
    "            \n",
    "            self.book = []\n",
    "            self.book = list(dict.fromkeys(branch_list))\n",
    "            self.axiom = process_string(self.axiom)\n",
    "    \n",
    "class plum(tree):\n",
    "    \n",
    "    \n",
    "    def grow(self):\n",
    "        if self.age < 10:\n",
    "            branch_list = []\n",
    "            stack = []\n",
    "            \n",
    "            for task in self.axiom:\n",
    "                t.penup()\n",
    "                if task == 'G':\n",
    "                    t.setpos(self.book[0])\n",
    "                    t.seth(90)\n",
    "                    t.pendown()\n",
    "                    t.color('peru')\n",
    "                    t.pensize(4)        \n",
    "                    t.forward(self.trunk_length)\n",
    "                    branch_list.append(t.position())\n",
    "                    \n",
    "                if task == 'F':\n",
    "                    t.setpos(self.book[0])\n",
    "                    t.seth(90)\n",
    "                    t.right(self.angle)\n",
    "                    t.pendown()\n",
    "                    t.color(self.colour)\n",
    "                    t.pensize(1)\n",
    "                    t.forward((self.branch_length/self.age))\n",
    "                    t.penup()\n",
    "                    branch_list.append(t.position())\n",
    "                    t.setpos(self.book[0])\n",
    "                    t.seth(90)\n",
    "                    t.left(self.angle)\n",
    "                    t.pendown()\n",
    "                    t.forward((self.branch_length/self.age))\n",
    "                    branch_list.append(t.position())\n",
    "                    t.penup()\n",
    "                    self.book.pop(0)\n",
    "                    \n",
    "                        \n",
    "            \n",
    "            self.book = []\n",
    "            self.book = list(dict.fromkeys(branch_list))\n",
    "            self.axiom = process_string(self.axiom)\n",
    "    \n"
   ]
  },
  {
   "cell_type": "markdown",
   "metadata": {},
   "source": [
    "__Go function__"
   ]
  },
  {
   "cell_type": "code",
   "execution_count": 43,
   "metadata": {},
   "outputs": [
    {
     "name": "stdout",
     "output_type": "stream",
     "text": [
      "[(126.41,196.64), (120.07,196.64)]\n",
      "[(126.41,196.64), (120.07,196.64), (117.96,196.64), (111.62,196.64)]\n",
      "[(126.41,196.64), (120.07,196.64), (117.96,196.64), (111.62,196.64), (113.74,196.64), (107.40,196.64)]\n",
      "[(126.41,196.64), (120.07,196.64), (117.96,196.64), (111.62,196.64), (113.74,196.64), (107.40,196.64), (105.28,196.64), (98.94,196.64)]\n",
      "[(126.41,196.64), (120.07,196.64), (117.96,196.64), (111.62,196.64), (113.74,196.64), (107.40,196.64), (105.28,196.64), (98.94,196.64), (101.06,196.64), (94.72,196.64)]\n",
      "[(126.41,196.64), (120.07,196.64), (117.96,196.64), (111.62,196.64), (113.74,196.64), (107.40,196.64), (105.28,196.64), (98.94,196.64), (101.06,196.64), (94.72,196.64), (92.60,196.64), (86.26,196.64)]\n",
      "[(126.41,196.64), (120.07,196.64), (117.96,196.64), (111.62,196.64), (113.74,196.64), (107.40,196.64), (105.28,196.64), (98.94,196.64), (101.06,196.64), (94.72,196.64), (92.60,196.64), (86.26,196.64), (88.38,196.64), (82.04,196.64)]\n",
      "[(126.41,196.64), (120.07,196.64), (117.96,196.64), (111.62,196.64), (113.74,196.64), (107.40,196.64), (105.28,196.64), (98.94,196.64), (101.06,196.64), (94.72,196.64), (92.60,196.64), (86.26,196.64), (88.38,196.64), (82.04,196.64), (79.93,196.64), (73.59,196.64)]\n",
      "[(126.41,296.64), (120.07,296.64)]\n",
      "[(126.41,296.64), (120.07,296.64), (117.96,296.64), (111.62,296.64)]\n",
      "[(126.41,296.64), (120.07,296.64), (117.96,296.64), (111.62,296.64), (113.74,296.64), (107.40,296.64)]\n",
      "[(126.41,296.64), (120.07,296.64), (117.96,296.64), (111.62,296.64), (113.74,296.64), (107.40,296.64), (105.28,296.64), (98.94,296.64)]\n",
      "[(126.41,296.64), (120.07,296.64), (117.96,296.64), (111.62,296.64), (113.74,296.64), (107.40,296.64), (105.28,296.64), (98.94,296.64), (101.06,296.64), (94.72,296.64)]\n",
      "[(126.41,296.64), (120.07,296.64), (117.96,296.64), (111.62,296.64), (113.74,296.64), (107.40,296.64), (105.28,296.64), (98.94,296.64), (101.06,296.64), (94.72,296.64), (92.60,296.64), (86.26,296.64)]\n",
      "[(126.41,296.64), (120.07,296.64), (117.96,296.64), (111.62,296.64), (113.74,296.64), (107.40,296.64), (105.28,296.64), (98.94,296.64), (101.06,296.64), (94.72,296.64), (92.60,296.64), (86.26,296.64), (88.38,296.64), (82.04,296.64)]\n",
      "[(126.41,296.64), (120.07,296.64), (117.96,296.64), (111.62,296.64), (113.74,296.64), (107.40,296.64), (105.28,296.64), (98.94,296.64), (101.06,296.64), (94.72,296.64), (92.60,296.64), (86.26,296.64), (88.38,296.64), (82.04,296.64), (79.93,296.64), (73.59,296.64)]\n",
      "[(126.41,396.64), (120.07,396.64)]\n",
      "[(126.41,396.64), (120.07,396.64), (117.96,396.64), (111.62,396.64)]\n",
      "[(126.41,396.64), (120.07,396.64), (117.96,396.64), (111.62,396.64), (113.74,396.64), (107.40,396.64)]\n",
      "[(126.41,396.64), (120.07,396.64), (117.96,396.64), (111.62,396.64), (113.74,396.64), (107.40,396.64), (105.28,396.64), (98.94,396.64)]\n",
      "[(126.41,396.64), (120.07,396.64), (117.96,396.64), (111.62,396.64), (113.74,396.64), (107.40,396.64), (105.28,396.64), (98.94,396.64), (101.06,396.64), (94.72,396.64)]\n",
      "[(126.41,396.64), (120.07,396.64), (117.96,396.64), (111.62,396.64), (113.74,396.64), (107.40,396.64), (105.28,396.64), (98.94,396.64), (101.06,396.64), (94.72,396.64), (92.60,396.64), (86.26,396.64)]\n",
      "[(126.41,396.64), (120.07,396.64), (117.96,396.64), (111.62,396.64), (113.74,396.64), (107.40,396.64), (105.28,396.64), (98.94,396.64), (101.06,396.64), (94.72,396.64), (92.60,396.64), (86.26,396.64), (88.38,396.64), (82.04,396.64)]\n",
      "[(126.41,396.64), (120.07,396.64), (117.96,396.64), (111.62,396.64), (113.74,396.64), (107.40,396.64), (105.28,396.64), (98.94,396.64), (101.06,396.64), (94.72,396.64), (92.60,396.64), (86.26,396.64), (88.38,396.64), (82.04,396.64), (79.93,396.64), (73.59,396.64)]\n",
      "[(110.57,489.85), (102.11,489.85)]\n",
      "[(110.57,489.85), (102.11,489.85), (97.89,489.85), (89.43,489.85)]\n",
      "[(110.57,489.85), (102.11,489.85), (97.89,489.85), (89.43,489.85), (85.21,489.85), (76.76,489.85)]\n"
     ]
    },
    {
     "ename": "IndexError",
     "evalue": "list index out of range",
     "output_type": "error",
     "traceback": [
      "\u001b[1;31m---------------------------------------------------------------------------\u001b[0m",
      "\u001b[1;31mIndexError\u001b[0m                                Traceback (most recent call last)",
      "\u001b[1;32m<ipython-input-43-58c42bcfc13a>\u001b[0m in \u001b[0;36m<module>\u001b[1;34m\u001b[0m\n\u001b[0;32m     12\u001b[0m \u001b[1;33m\u001b[0m\u001b[0m\n\u001b[0;32m     13\u001b[0m \u001b[1;33m\u001b[0m\u001b[0m\n\u001b[1;32m---> 14\u001b[1;33m \u001b[0mgo\u001b[0m\u001b[1;33m(\u001b[0m\u001b[1;36m10\u001b[0m\u001b[1;33m)\u001b[0m\u001b[1;33m\u001b[0m\u001b[1;33m\u001b[0m\u001b[0m\n\u001b[0m",
      "\u001b[1;32m<ipython-input-43-58c42bcfc13a>\u001b[0m in \u001b[0;36mgo\u001b[1;34m(horizon)\u001b[0m\n\u001b[0;32m      7\u001b[0m     \u001b[1;32mwhile\u001b[0m \u001b[0mtick\u001b[0m \u001b[1;33m<\u001b[0m \u001b[0mhorizon\u001b[0m\u001b[1;33m:\u001b[0m\u001b[1;33m\u001b[0m\u001b[1;33m\u001b[0m\u001b[0m\n\u001b[0;32m      8\u001b[0m         \u001b[1;32mfor\u001b[0m \u001b[0mtree\u001b[0m \u001b[1;32min\u001b[0m \u001b[0mtrees\u001b[0m\u001b[1;33m:\u001b[0m\u001b[1;33m\u001b[0m\u001b[1;33m\u001b[0m\u001b[0m\n\u001b[1;32m----> 9\u001b[1;33m             \u001b[0mtree\u001b[0m\u001b[1;33m.\u001b[0m\u001b[0mgrow\u001b[0m\u001b[1;33m(\u001b[0m\u001b[1;33m)\u001b[0m\u001b[1;33m\u001b[0m\u001b[1;33m\u001b[0m\u001b[0m\n\u001b[0m\u001b[0;32m     10\u001b[0m             \u001b[0mtree\u001b[0m\u001b[1;33m.\u001b[0m\u001b[0mageing\u001b[0m\u001b[1;33m(\u001b[0m\u001b[1;33m)\u001b[0m\u001b[1;33m\u001b[0m\u001b[1;33m\u001b[0m\u001b[0m\n\u001b[0;32m     11\u001b[0m     \u001b[0mtick\u001b[0m \u001b[1;33m+=\u001b[0m \u001b[1;36m1\u001b[0m\u001b[1;33m\u001b[0m\u001b[1;33m\u001b[0m\u001b[0m\n",
      "\u001b[1;32m<ipython-input-39-bb037f61c803>\u001b[0m in \u001b[0;36mgrow\u001b[1;34m(self)\u001b[0m\n\u001b[0;32m     19\u001b[0m \u001b[1;33m\u001b[0m\u001b[0m\n\u001b[0;32m     20\u001b[0m                 \u001b[1;32mif\u001b[0m \u001b[0mtask\u001b[0m \u001b[1;33m==\u001b[0m \u001b[1;34m'F'\u001b[0m\u001b[1;33m:\u001b[0m\u001b[1;33m\u001b[0m\u001b[1;33m\u001b[0m\u001b[0m\n\u001b[1;32m---> 21\u001b[1;33m                     \u001b[0mt\u001b[0m\u001b[1;33m.\u001b[0m\u001b[0msetpos\u001b[0m\u001b[1;33m(\u001b[0m\u001b[0mself\u001b[0m\u001b[1;33m.\u001b[0m\u001b[0mbook\u001b[0m\u001b[1;33m[\u001b[0m\u001b[1;36m0\u001b[0m\u001b[1;33m]\u001b[0m\u001b[1;33m)\u001b[0m\u001b[1;33m\u001b[0m\u001b[1;33m\u001b[0m\u001b[0m\n\u001b[0m\u001b[0;32m     22\u001b[0m                     \u001b[0mt\u001b[0m\u001b[1;33m.\u001b[0m\u001b[0mseth\u001b[0m\u001b[1;33m(\u001b[0m\u001b[1;36m90\u001b[0m\u001b[1;33m)\u001b[0m\u001b[1;33m\u001b[0m\u001b[1;33m\u001b[0m\u001b[0m\n\u001b[0;32m     23\u001b[0m                     \u001b[0mt\u001b[0m\u001b[1;33m.\u001b[0m\u001b[0mright\u001b[0m\u001b[1;33m(\u001b[0m\u001b[0mself\u001b[0m\u001b[1;33m.\u001b[0m\u001b[0mangle\u001b[0m\u001b[1;33m)\u001b[0m\u001b[1;33m\u001b[0m\u001b[1;33m\u001b[0m\u001b[0m\n",
      "\u001b[1;31mIndexError\u001b[0m: list index out of range"
     ]
    }
   ],
   "source": [
    "\n",
    "def go(horizon):\n",
    "    global tick\n",
    "    tick = 1\n",
    "    setup()\n",
    "    while tick < horizon:\n",
    "        for tree in trees:\n",
    "            tree.grow()\n",
    "            tree.ageing()\n",
    "    tick += 1\n",
    "        \n",
    "    \n",
    "go(10)  "
   ]
  },
  {
   "cell_type": "code",
   "execution_count": null,
   "metadata": {},
   "outputs": [],
   "source": [
    "t.clearscreen()"
   ]
  }
 ],
 "metadata": {
  "kernelspec": {
   "display_name": "Python 3",
   "language": "python",
   "name": "python3"
  },
  "language_info": {
   "codemirror_mode": {
    "name": "ipython",
    "version": 3
   },
   "file_extension": ".py",
   "mimetype": "text/x-python",
   "name": "python",
   "nbconvert_exporter": "python",
   "pygments_lexer": "ipython3",
   "version": "3.7.4"
  }
 },
 "nbformat": 4,
 "nbformat_minor": 2
}
