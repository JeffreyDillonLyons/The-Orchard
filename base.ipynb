{
 "cells": [
  {
   "cell_type": "markdown",
   "metadata": {},
   "source": [
    "## The Orchard\n"
   ]
  },
  {
   "cell_type": "markdown",
   "metadata": {},
   "source": [
    "Tasks <br>\n",
    "1. Start with classes of trees and their attributes ie brush up on ooo.\n",
    "2. Pseudo code framework as it occurrs for the boys. \n",
    "3. Practice drawing trees with L-system."
   ]
  },
  {
   "cell_type": "markdown",
   "metadata": {},
   "source": [
    "Here we create the class of tree. Fruite trees can have many attributes such as their colour, growth rate, growth characteristics etc etc. Using OOP is a handy way to manage these characteristics as we can easily store and call these attributes as we run our simulation. eg Grow > grow_by(apple.growth()). We can also define species specific methods which can be called."
   ]
  },
  {
   "cell_type": "code",
   "execution_count": 35,
   "metadata": {},
   "outputs": [],
   "source": [
    "\n",
    "class tree():\n",
    "    def __init__(self,color,species):\n",
    "        'New instance of class Tree'\n",
    "        self.color = color\n",
    "        self.species = species\n",
    "    \n",
    "    \n",
    "    def __str__(self):\n",
    "        return 'I am an '+ self.species + ' tree.'\n",
    "    \n",
    "\n",
    "  "
   ]
  },
  {
   "cell_type": "code",
   "execution_count": 36,
   "metadata": {},
   "outputs": [],
   "source": [
    "apple = tree('red', 'apple')\n",
    "pear = tree('green', 'pear')\n",
    "plum = tree('purple', 'plum')"
   ]
  },
  {
   "cell_type": "code",
   "execution_count": 37,
   "metadata": {},
   "outputs": [
    {
     "name": "stdout",
     "output_type": "stream",
     "text": [
      "I am an apple tree. I am an pear tree. I am an plum tree.\n"
     ]
    }
   ],
   "source": [
    "print(apple,pear,plum)"
   ]
  },
  {
   "cell_type": "code",
   "execution_count": null,
   "metadata": {},
   "outputs": [],
   "source": []
  },
  {
   "cell_type": "code",
   "execution_count": null,
   "metadata": {},
   "outputs": [],
   "source": []
  },
  {
   "cell_type": "code",
   "execution_count": null,
   "metadata": {},
   "outputs": [],
   "source": []
  }
 ],
 "metadata": {
  "kernelspec": {
   "display_name": "Python 3",
   "language": "python",
   "name": "python3"
  },
  "language_info": {
   "codemirror_mode": {
    "name": "ipython",
    "version": 3
   },
   "file_extension": ".py",
   "mimetype": "text/x-python",
   "name": "python",
   "nbconvert_exporter": "python",
   "pygments_lexer": "ipython3",
   "version": "3.7.4"
  }
 },
 "nbformat": 4,
 "nbformat_minor": 2
}
