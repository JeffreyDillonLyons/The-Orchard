{
 "cells": [
  {
   "cell_type": "markdown",
   "metadata": {},
   "source": [
    "## The Orchard"
   ]
  },
  {
   "cell_type": "markdown",
   "metadata": {},
   "source": [
    "Tasks <br>\n",
    "1. Start with classes of trees and their attributes ie brush up on ooo.\n",
    "2. Pseudo code framework as it occurrs for the boys. \n",
    "3. Practice drawing trees with L-system."
   ]
  },
  {
   "cell_type": "markdown",
   "metadata": {},
   "source": [
    "__Preamble__"
   ]
  },
  {
   "cell_type": "code",
   "execution_count": 2,
   "metadata": {},
   "outputs": [],
   "source": [
    "import numpy as np\n",
    "import turtle as t\n"
   ]
  },
  {
   "cell_type": "markdown",
   "metadata": {},
   "source": [
    "Here we create the class of tree. Fruite trees can have many attributes such as their colour, growth rate, growth characteristics etc etc. Using OOP is a handy way to manage these characteristics as we can easily store and call these attributes as we run our simulation. eg Grow > grow_by(apple.growth()). We can also define species specific methods which can be called."
   ]
  },
  {
   "cell_type": "markdown",
   "metadata": {},
   "source": [
    "__Classes and Objects__"
   ]
  },
  {
   "cell_type": "code",
   "execution_count": 4,
   "metadata": {},
   "outputs": [],
   "source": [
    "\n",
    "class tree():\n",
    "    def __init__(self,color,species,length):\n",
    "        'New instance of class Tree'\n",
    "        self.color = color\n",
    "        self.species = species\n",
    "        self.length = length\n",
    "    \n",
    "    \n",
    "    def __str__(self):\n",
    "        return 'I am an '+ self.species + ' tree.'\n",
    "\n",
    "  "
   ]
  },
  {
   "cell_type": "code",
   "execution_count": 5,
   "metadata": {},
   "outputs": [],
   "source": [
    "apple = tree('red', 'apple', 10)\n",
    "pear = tree('green', 'pear', 15)\n",
    "plum = tree('purple', 'plum', 20)"
   ]
  },
  {
   "cell_type": "code",
   "execution_count": 6,
   "metadata": {},
   "outputs": [
    {
     "name": "stdout",
     "output_type": "stream",
     "text": [
      "10\n"
     ]
    }
   ],
   "source": [
    "print(apple.length)"
   ]
  },
  {
   "cell_type": "code",
   "execution_count": 7,
   "metadata": {},
   "outputs": [
    {
     "name": "stdout",
     "output_type": "stream",
     "text": [
      "I am an apple tree.\n"
     ]
    }
   ],
   "source": [
    "print(apple)"
   ]
  },
  {
   "cell_type": "markdown",
   "metadata": {},
   "source": [
    "__Choosing the spots and planting a number of tree__"
   ]
  },
  {
   "cell_type": "markdown",
   "metadata": {},
   "source": [
    "Hey boys, in the following code I set up the turtle screen with setup(), form a list of position vectors of where we're going to plant the trees, and then I get the turtle to go to each point, draw a trunk of a fixed length and then update the position list for the next round of growth. This is a good place to start to implement the L-system"
   ]
  },
  {
   "cell_type": "code",
   "execution_count": null,
   "metadata": {},
   "outputs": [],
   "source": [
    "import numpy as np\n",
    "import turtle as t\n",
    "from turtle import Turtle\n",
    "\n",
    "##setup turtle screen\n",
    "def setup():\n",
    "    t.setup(width=1.0,height=1.0)\n",
    "    t.setworldcoordinates(0,0,1000,1000)\n",
    "    t.speed(0)\n",
    "    t.bgcolor('yellow green')\n",
    "    window = t.Screen()\n",
    "    window.title(\"Amazing Tree\")\n",
    "#Draw the edges of the garden\n",
    "    t.pendown\n",
    "    t.color('gold')\n",
    "    t.pensize(25)\n",
    "    t.forward(990)\n",
    "    t.left(90)\n",
    "    t.forward(990)\n",
    "    t.left(90)\n",
    "    t.forward(990)\n",
    "    t.left(90)\n",
    "    t.home()\n",
    "##draw patches\n",
    "\n",
    "def point():\n",
    "    global p\n",
    "    p = []\n",
    "    for i in range(1,10):\n",
    "        for j in range(1,10):\n",
    "            p.append((100*i,100*j))\n",
    "    return p\n",
    "\n",
    "def planter(count):\n",
    "    setup()\n",
    "    point()\n",
    "    t.penup()\n",
    "    t.color('tan')\n",
    "    t.pensize(25)\n",
    "    counter = 0\n",
    "    while counter < count - 1:\n",
    "        t.setposition(p[counter])\n",
    "        t.left(90)\n",
    "        t.dot(40,'tan')\n",
    "        t.penup()\n",
    "        t.right(90)\n",
    "        p[counter] = t.position()\n",
    "        counter += 1\n",
    "            \n",
    "                \n",
    "    print('Terminated')\n",
    "    print('The new list of positions is >',p)\n",
    "    t.done()\n",
    "        \n",
    "planter(0)   \n"
   ]
  },
  {
   "cell_type": "code",
   "execution_count": null,
   "metadata": {},
   "outputs": [],
   "source": [
    "point(100)\n",
    "point"
   ]
  }
 ],
 "metadata": {
  "kernelspec": {
   "display_name": "Python 3",
   "language": "python",
   "name": "python3"
  },
  "language_info": {
   "codemirror_mode": {
    "name": "ipython",
    "version": 3
   },
   "file_extension": ".py",
   "mimetype": "text/x-python",
   "name": "python",
   "nbconvert_exporter": "python",
   "pygments_lexer": "ipython3",
   "version": "3.8.3"
  }
 },
 "nbformat": 4,
 "nbformat_minor": 4
}
