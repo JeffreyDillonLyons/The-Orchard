{
 "cells": [
  {
   "cell_type": "markdown",
   "metadata": {},
   "source": [
    "## V3 - Tree drawer based on L-system"
   ]
  },
  {
   "cell_type": "markdown",
   "metadata": {},
   "source": [
    "Readme <br>\n",
    "Credits: Ron&Ron Magic Coding"
   ]
  },
  {
   "cell_type": "code",
   "execution_count": 3,
   "metadata": {},
   "outputs": [],
   "source": [
    "import random\n",
    "import turtle"
   ]
  },
  {
   "cell_type": "code",
   "execution_count": 4,
   "metadata": {},
   "outputs": [
    {
     "name": "stdout",
     "output_type": "stream",
     "text": [
      "F-FB++FB-C-F-FB++FB-CB++F-FB++FB-CB-C-F-FB++FB-C-F-FB++FB-CB++F-FB++FB-CB-CB++F-FB++FB-C-F-FB++FB-CB++F-FB++FB-CB-CB-C\n"
     ]
    }
   ],
   "source": [
    "import random\n",
    "import turtle\n",
    "\n",
    "######## Variable Inputs:\n",
    "angle = random.randint(27,43)              # Angels of branches. \n",
    "tree_age = 3                               # Years\n",
    "branch_length = 100                         # Branch length. For now, one value.\n",
    "branch_thickness = branch_length/15        # Branch length. For now, one value.\n",
    "x2 = 0.4                                   # Specifcy how much the branches reduce in size\n",
    "\n",
    "######## setup for drawing\n",
    "window = turtle.Screen()\n",
    "jeff = turtle.Turtle()\n",
    "jeff.speed(0)\n",
    "# using screen.tracer() speeds up your drawing (by skipping some frames when drawing)\n",
    "#window.tracer(10)\n",
    "\n",
    "# Turtle Screen setting\n",
    "jeff.up()\n",
    "jeff.back(-100)\n",
    "jeff.down()\n",
    "jeff.left(90)\n",
    "\n",
    "##########################################################################\n",
    "def apply_rules(letter):                      #Apply rules to an individual letter, and return the result.\"\"\"\n",
    "    if letter == 'F':                         \n",
    "        new_string = 'F-FB++FB-C'              # L-system rules\n",
    "    else:                                     # no rules apply so keep the character\n",
    "        new_string = letter\n",
    "    return new_string\n",
    "\n",
    "def process_string(original_string): #Apply rules to a string, one letter at a time, and return the result.\"\"\"\n",
    "    tranformed_string = \"\"\n",
    "    for letter in original_string:\n",
    "        tranformed_string = tranformed_string + apply_rules(letter)\n",
    "    return tranformed_string\n",
    "\n",
    "def create_l_system(number_of_iterations, axiom):    #Begin with an axiom, and apply rules to the original axiom string number_of_iterations times, then return the result.\n",
    "    start_string = axiom\n",
    "    for counter in range(number_of_iterations):\n",
    "        end_string = process_string(start_string)\n",
    "        start_string = end_string\n",
    "    return end_string\n",
    "\n",
    "def draw_l_system(treedrawer, instructions, angle, branch_length):    #How to draw using L-system instructions.\n",
    "    for task in instructions:\n",
    "        if task == 'F':\n",
    "            treedrawer.forward(branch_length)\n",
    "            treedrawer.color('peru')\n",
    "            treedrawer.pensize(branch_thickness)\n",
    "        elif task == 'B':\n",
    "            treedrawer.backward(branch_length)\n",
    "        elif task == '+':\n",
    "            treedrawer.right(angle)\n",
    "        elif task == '-':\n",
    "            treedrawer.left(angle)\n",
    "        elif task == '-':\n",
    "            treedrawer.pensize()\n",
    "            treedrawer.pensize(angle)\n",
    "            \n",
    "\n",
    "############################################################################\n",
    "\n",
    "# create the string of turtle instructions\n",
    "instruction_string = create_l_system(tree_age, \"F\")\n",
    "print(instruction_string)\n",
    "\n",
    "draw_l_system(jeff, instruction_string, angle, branch_length)      # draw the picture, using angle 'angle' and segment length 'x'"
   ]
  },
  {
   "cell_type": "markdown",
   "metadata": {},
   "source": [
    "\n",
    "\n",
    "IGNORE EVERYTHING BELOW:\n"
   ]
  },
  {
   "cell_type": "code",
   "execution_count": null,
   "metadata": {},
   "outputs": [],
   "source": [
    "'\n",
    "from turtle import * \n",
    "from random import *\n",
    "\n",
    "t1 = Turtle()\n",
    "#Turtle settings:\n",
    "x = -200\n",
    "turtles = [t1]\n",
    "for t in turtles:\n",
    "  t.speed(1)                     # How fast turtle will draw the animation. 1 to 10, with th expectation of 0. 0 = always the fastest.\n",
    "  t.left(90)\n",
    "  t.color('peru')                # for brownish colours, 'peru' is a bit lighter, 'sienna' medium, 'saddle brown' a bit darker\n",
    "  t.pu()\n",
    "  x += randint(-100,110)          # Te x coordinations where the tree will be placed, currently random interval. we need the orcharde base for this later on.\n",
    "  t.goto(x, randint(-100,100))\n",
    "  t.pd()\n",
    "\n",
    "\n",
    "#Setting of the branches\n",
    "\n",
    "def branch(turt, branch_len):\n",
    "  angle = randint(22,30)        # This is where we could change how \"fat\" the tree will be. However, a fatter tree will also require more branches to be made.\n",
    "  sf = uniform(0.5,0.8)         # Indication of how \"cluttered\" the branches will be. Higher numbers interval: more complicated tree branch structure, lots of small branches. \n",
    "  size = int(branch_len /7)     # How thick the branches are\n",
    "  randomfruit = randint(0, 15)\n",
    "  turt.pensize(size)\n",
    "\n",
    "  if branch_len < 20:           # If branches are shorter than 20\n",
    "    turt.color('green')\n",
    "    turt.stamp()\n",
    "    turt.color('peru')\n",
    "\n",
    "  if branch_len > 10:\n",
    "    turt.forward(branch_len)       # Do F\n",
    "    turt.left(angle)               #Do -\n",
    "    \n",
    "    branch(turt, branch_len*sf)    #Go back to beginnen of the function: expect, with shorter length. \n",
    "    turt.right(angle*2)            #Do ++\n",
    "    turt.dot(randomfruit, \"red\")  # Randomly draw a fruit, colours can change such that it's different fruit.\n",
    "    branch(turt, branch_len*sf)\n",
    "    turt.left(angle)\n",
    "    turt.backward(branch_len)"
   ]
  }
 ],
 "metadata": {
  "kernelspec": {
   "display_name": "Python 3",
   "language": "python",
   "name": "python3"
  },
  "language_info": {
   "codemirror_mode": {
    "name": "ipython",
    "version": 3
   },
   "file_extension": ".py",
   "mimetype": "text/x-python",
   "name": "python",
   "nbconvert_exporter": "python",
   "pygments_lexer": "ipython3",
   "version": "3.8.3"
  }
 },
 "nbformat": 4,
 "nbformat_minor": 4
}
